{
 "cells": [
  {
   "cell_type": "markdown",
   "id": "b5a2c8aa-bcc3-45d6-927a-87c0486c8f9b",
   "metadata": {},
   "source": [
    "# Data Science Tools and Ecosystem"
   ]
  },
  {
   "cell_type": "markdown",
   "id": "e24ad38a-df6e-4de7-80b4-617c9cdeef48",
   "metadata": {
    "tags": []
   },
   "source": [
    "In this notebook, Data Science Tools and Ecosystems are summarized."
   ]
  },
  {
   "cell_type": "markdown",
   "id": "653f8d4d-33ef-4aed-a69a-8a81aa4e18a1",
   "metadata": {},
   "source": [
    "Some of the popular languages that Data Scientists use are:"
   ]
  },
  {
   "cell_type": "markdown",
   "id": "361852ec-e947-4b19-8ea8-692bfade8984",
   "metadata": {
    "tags": []
   },
   "source": [
    "1. Python\n",
    "2. Scala\n",
    "3. R"
   ]
  },
  {
   "cell_type": "markdown",
   "id": "01717653-3c3f-4549-adbe-ddfa93305026",
   "metadata": {},
   "source": [
    "Some of the commonly used libraries used by Data Scientists include:"
   ]
  },
  {
   "cell_type": "markdown",
   "id": "faa74a81-533e-42de-8f47-1522913002e6",
   "metadata": {},
   "source": [
    "1. NumPy\n",
    "2. Scikit\n",
    "3. Pandas"
   ]
  },
  {
   "cell_type": "markdown",
   "id": "a934ac58-8e22-47a9-aaae-81102e9ea5d3",
   "metadata": {
    "tags": []
   },
   "source": [
    "|Data Science Tools|\n",
    "|------------------|\n",
    "| Notepad RStudio |\n",
    "| Jupyter Lab Spyder VSCode |\n",
    "| Apache Hadoop |\n",
    "\n",
    "\n"
   ]
  },
  {
   "cell_type": "markdown",
   "id": "7cbff6d6-bd10-4e8e-80b0-7ad32562f6d9",
   "metadata": {
    "tags": []
   },
   "source": [
    "### Below are a few examples of evaluating arithmetic expressions in Python"
   ]
  },
  {
   "cell_type": "code",
   "execution_count": 8,
   "id": "e8f23e5f-b9de-4ce6-80a1-5f3441d41a4f",
   "metadata": {
    "tags": []
   },
   "outputs": [
    {
     "data": {
      "text/plain": [
       "17"
      ]
     },
     "execution_count": 8,
     "metadata": {},
     "output_type": "execute_result"
    }
   ],
   "source": [
    "# This is a simple arithmetic expression to multiply then add integers\n",
    "(3*4)+5"
   ]
  },
  {
   "cell_type": "code",
   "execution_count": 9,
   "id": "2898d049-5302-4c1c-8845-921992e84f63",
   "metadata": {
    "tags": []
   },
   "outputs": [
    {
     "data": {
      "text/plain": [
       "3.3333333333333335"
      ]
     },
     "execution_count": 9,
     "metadata": {},
     "output_type": "execute_result"
    }
   ],
   "source": [
    "# This will convert 200 minutes to hours by dividing by 60\n",
    "200/60"
   ]
  },
  {
   "cell_type": "markdown",
   "id": "b5ece868-73f8-46f4-9fd5-fbfa0c7e9082",
   "metadata": {},
   "source": [
    "**Objectives:**\n",
    "- Libraries in Data Science\n",
    "- Languages in Data Science\n",
    "- Data Science Tools"
   ]
  },
  {
   "cell_type": "markdown",
   "id": "febb47d3-6551-428d-bf9d-a307de0675e3",
   "metadata": {},
   "source": [
    "## Author\n",
    "Logan Heidt"
   ]
  },
  {
   "cell_type": "code",
   "execution_count": null,
   "id": "b24edb14-a11c-451f-a336-be5c5c5b8c67",
   "metadata": {},
   "outputs": [],
   "source": []
  }
 ],
 "metadata": {
  "kernelspec": {
   "display_name": "Python",
   "language": "python",
   "name": "conda-env-python-py"
  },
  "language_info": {
   "codemirror_mode": {
    "name": "ipython",
    "version": 3
   },
   "file_extension": ".py",
   "mimetype": "text/x-python",
   "name": "python",
   "nbconvert_exporter": "python",
   "pygments_lexer": "ipython3",
   "version": "3.7.12"
  }
 },
 "nbformat": 4,
 "nbformat_minor": 5
}
